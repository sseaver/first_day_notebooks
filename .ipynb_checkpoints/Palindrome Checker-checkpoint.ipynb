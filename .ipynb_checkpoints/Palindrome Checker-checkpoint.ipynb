{
 "cells": [
  {
   "cell_type": "code",
   "execution_count": null,
   "metadata": {
    "collapsed": false
   },
   "outputs": [],
   "source": [
    "word = input(\"Pick a word or phrase\")\n",
    "word = word.lower()\n",
    "word = word.replace(\" \", \"\")\n",
    "word = word.replace(\",\", \"\")\n",
    "word = word.replace(\".\", \"\")\n",
    "word = word.replace(\"?\", \"\")\n",
    "word = word.replace(\"!\", \"\")\n",
    "word = word.replace(\":\", \"\")\n",
    "\n",
    "palindrome = (word [::-1])\n",
    "if word == palindrome:\n",
    "    print (\"True\")\n",
    "else:\n",
    "    print (\"False\")"
   ]
  },
  {
   "cell_type": "code",
   "execution_count": null,
   "metadata": {
    "collapsed": true
   },
   "outputs": [],
   "source": []
  }
 ],
 "metadata": {
  "kernelspec": {
   "display_name": "Python 3",
   "language": "python",
   "name": "python3"
  },
  "language_info": {
   "codemirror_mode": {
    "name": "ipython",
    "version": 3
   },
   "file_extension": ".py",
   "mimetype": "text/x-python",
   "name": "python",
   "nbconvert_exporter": "python",
   "pygments_lexer": "ipython3",
   "version": "3.5.2"
  }
 },
 "nbformat": 4,
 "nbformat_minor": 1
}
